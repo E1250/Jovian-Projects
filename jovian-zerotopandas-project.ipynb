{
 "cells": [
  {
   "cell_type": "code",
   "execution_count": 1,
   "id": "ff657b13",
   "metadata": {
    "_cell_guid": "b1076dfc-b9ad-4769-8c92-a6c4dae69d19",
    "_uuid": "8f2839f25d086af736a60e9eeb907d3b93b6e0e5",
    "execution": {
     "iopub.execute_input": "2022-07-25T01:17:55.337549Z",
     "iopub.status.busy": "2022-07-25T01:17:55.336666Z",
     "iopub.status.idle": "2022-07-25T01:17:55.357392Z",
     "shell.execute_reply": "2022-07-25T01:17:55.356139Z"
    },
    "papermill": {
     "duration": 0.038034,
     "end_time": "2022-07-25T01:17:55.360432",
     "exception": false,
     "start_time": "2022-07-25T01:17:55.322398",
     "status": "completed"
    },
    "tags": []
   },
   "outputs": [
    {
     "name": "stdout",
     "output_type": "stream",
     "text": [
      "/kaggle/input/netflix-tv-shows-and-movies/credits.csv\n",
      "/kaggle/input/netflix-tv-shows-and-movies/titles.csv\n"
     ]
    }
   ],
   "source": [
    "# This Python 3 environment comes with many helpful analytics libraries installed\n",
    "# It is defined by the kaggle/python Docker image: https://github.com/kaggle/docker-python\n",
    "# For example, here's several helpful packages to load\n",
    "\n",
    "import numpy as np # linear algebra\n",
    "import pandas as pd # data processing, CSV file I/O (e.g. pd.read_csv)\n",
    "\n",
    "# Input data files are available in the read-only \"../input/\" directory\n",
    "# For example, running this (by clicking run or pressing Shift+Enter) will list all files under the input directory\n",
    "\n",
    "import os\n",
    "for dirname, _, filenames in os.walk('/kaggle/input'):\n",
    "    for filename in filenames:\n",
    "        print(os.path.join(dirname, filename))\n",
    "\n",
    "# You can write up to 20GB to the current directory (/kaggle/working/) that gets preserved as output when you create a version using \"Save & Run All\" \n",
    "# You can also write temporary files to /kaggle/temp/, but they won't be saved outside of the current session"
   ]
  },
  {
   "cell_type": "markdown",
   "id": "18485923",
   "metadata": {
    "papermill": {
     "duration": 0.010963,
     "end_time": "2022-07-25T01:17:55.382343",
     "exception": false,
     "start_time": "2022-07-25T01:17:55.371380",
     "status": "completed"
    },
    "tags": []
   },
   "source": [
    "## Preparing Jovian"
   ]
  },
  {
   "cell_type": "code",
   "execution_count": 2,
   "id": "96902315",
   "metadata": {
    "execution": {
     "iopub.execute_input": "2022-07-25T01:17:55.406844Z",
     "iopub.status.busy": "2022-07-25T01:17:55.406054Z",
     "iopub.status.idle": "2022-07-25T01:18:11.251432Z",
     "shell.execute_reply": "2022-07-25T01:18:11.249708Z"
    },
    "papermill": {
     "duration": 15.861014,
     "end_time": "2022-07-25T01:18:11.254500",
     "exception": false,
     "start_time": "2022-07-25T01:17:55.393486",
     "status": "completed"
    },
    "tags": []
   },
   "outputs": [
    {
     "name": "stdout",
     "output_type": "stream",
     "text": [
      "\u001b[33mWARNING: Running pip as the 'root' user can result in broken permissions and conflicting behaviour with the system package manager. It is recommended to use a virtual environment instead: https://pip.pypa.io/warnings/venv\u001b[0m\u001b[33m\r\n",
      "\u001b[0m"
     ]
    },
    {
     "data": {
      "application/javascript": [
       "if (window.IPython && IPython.notebook.kernel) IPython.notebook.kernel.execute('jovian.utils.jupyter.get_notebook_name_saved = lambda: \"' + IPython.notebook.notebook_name + '\"')"
      ],
      "text/plain": [
       "<IPython.core.display.Javascript object>"
      ]
     },
     "metadata": {},
     "output_type": "display_data"
    }
   ],
   "source": [
    "# Jovian Commit Essentials\n",
    "# Please retain and execute this cell without modifying the contents for `jovian.commit` to work\n",
    "!pip install jovian --upgrade -q\n",
    "import jovian\n",
    "jovian.set_project('zerotopandas-course-project-starter-aad63')\n",
    "jovian.set_colab_id('1CRvfXMHWpWPLWrWiI9grHVZNzCbGj5Y_')"
   ]
  },
  {
   "cell_type": "code",
   "execution_count": 3,
   "id": "751c3933",
   "metadata": {
    "execution": {
     "iopub.execute_input": "2022-07-25T01:18:11.279279Z",
     "iopub.status.busy": "2022-07-25T01:18:11.278800Z",
     "iopub.status.idle": "2022-07-25T01:18:23.077773Z",
     "shell.execute_reply": "2022-07-25T01:18:23.076180Z"
    },
    "papermill": {
     "duration": 11.814649,
     "end_time": "2022-07-25T01:18:23.080734",
     "exception": false,
     "start_time": "2022-07-25T01:18:11.266085",
     "status": "completed"
    },
    "tags": []
   },
   "outputs": [
    {
     "name": "stdout",
     "output_type": "stream",
     "text": [
      "\u001b[33mWARNING: Running pip as the 'root' user can result in broken permissions and conflicting behaviour with the system package manager. It is recommended to use a virtual environment instead: https://pip.pypa.io/warnings/venv\u001b[0m\u001b[33m\r\n",
      "\u001b[0m"
     ]
    }
   ],
   "source": [
    "!pip install jovian opendatasets --upgrade --quiet"
   ]
  },
  {
   "cell_type": "code",
   "execution_count": 4,
   "id": "f0ef8606",
   "metadata": {
    "execution": {
     "iopub.execute_input": "2022-07-25T01:18:23.106582Z",
     "iopub.status.busy": "2022-07-25T01:18:23.105836Z",
     "iopub.status.idle": "2022-07-25T01:18:35.277670Z",
     "shell.execute_reply": "2022-07-25T01:18:35.275041Z"
    },
    "papermill": {
     "duration": 12.18907,
     "end_time": "2022-07-25T01:18:35.281325",
     "exception": false,
     "start_time": "2022-07-25T01:18:23.092255",
     "status": "completed"
    },
    "tags": []
   },
   "outputs": [
    {
     "name": "stdout",
     "output_type": "stream",
     "text": [
      "\u001b[33mWARNING: Running pip as the 'root' user can result in broken permissions and conflicting behaviour with the system package manager. It is recommended to use a virtual environment instead: https://pip.pypa.io/warnings/venv\u001b[0m\u001b[33m\r\n",
      "\u001b[0m"
     ]
    },
    {
     "data": {
      "application/javascript": [
       "window.require && require([\"base/js/namespace\"],function(Jupyter){Jupyter.notebook.save_checkpoint()})"
      ],
      "text/plain": [
       "<IPython.core.display.Javascript object>"
      ]
     },
     "metadata": {},
     "output_type": "display_data"
    },
    {
     "data": {
      "application/javascript": [
       "if (window.IPython && IPython.notebook.kernel) IPython.notebook.kernel.execute('jovian.utils.jupyter.get_notebook_name_saved = lambda: \"' + IPython.notebook.notebook_name + '\"')"
      ],
      "text/plain": [
       "<IPython.core.display.Javascript object>"
      ]
     },
     "metadata": {},
     "output_type": "display_data"
    },
    {
     "name": "stderr",
     "output_type": "stream",
     "text": [
      "\u001b[31m[jovian] Error: Failed to read the Jupyter notebook. Please re-run this cell to try again. If the issue persists, provide the \"filename\" argument to \"jovian.commit\" e.g. \"jovian.commit(filename='my-notebook.ipynb')\"\u001b[0m\n"
     ]
    }
   ],
   "source": [
    "project_name = \"zerotopandas-exploratory-data-analysis\" # change this (use lowercase letters and hyphens only)\n",
    "!pip install jovian --upgrade -q\n",
    "import jovian\n",
    "jovian.commit(project=project_name)"
   ]
  },
  {
   "cell_type": "code",
   "execution_count": 5,
   "id": "fbdf07b0",
   "metadata": {
    "execution": {
     "iopub.execute_input": "2022-07-25T01:18:35.310771Z",
     "iopub.status.busy": "2022-07-25T01:18:35.310053Z",
     "iopub.status.idle": "2022-07-25T01:18:36.502050Z",
     "shell.execute_reply": "2022-07-25T01:18:36.500428Z"
    },
    "papermill": {
     "duration": 1.210427,
     "end_time": "2022-07-25T01:18:36.505073",
     "exception": false,
     "start_time": "2022-07-25T01:18:35.294646",
     "status": "completed"
    },
    "tags": []
   },
   "outputs": [],
   "source": [
    "import numpy as np\n",
    "import seaborn as sns\n",
    "import pandas as pd\n",
    "import matplotlib\n",
    "import matplotlib.pyplot as plt\n",
    "%matplotlib inline"
   ]
  },
  {
   "cell_type": "markdown",
   "id": "0b901864",
   "metadata": {
    "papermill": {
     "duration": 0.011637,
     "end_time": "2022-07-25T01:18:36.528621",
     "exception": false,
     "start_time": "2022-07-25T01:18:36.516984",
     "status": "completed"
    },
    "tags": []
   },
   "source": [
    "## Data Preparation and Cleaning\n",
    "- We will verify that the data is valid \n",
    "- Delete rows with incorrect data"
   ]
  },
  {
   "cell_type": "markdown",
   "id": "67927733",
   "metadata": {
    "papermill": {
     "duration": 0.011494,
     "end_time": "2022-07-25T01:18:36.551972",
     "exception": false,
     "start_time": "2022-07-25T01:18:36.540478",
     "status": "completed"
    },
    "tags": []
   },
   "source": [
    "First, we will load data then merge credits columns with titles columns for better analysis and understading"
   ]
  },
  {
   "cell_type": "code",
   "execution_count": 6,
   "id": "890e2886",
   "metadata": {
    "execution": {
     "iopub.execute_input": "2022-07-25T01:18:36.579277Z",
     "iopub.status.busy": "2022-07-25T01:18:36.578540Z",
     "iopub.status.idle": "2022-07-25T01:18:37.061160Z",
     "shell.execute_reply": "2022-07-25T01:18:37.059764Z"
    },
    "papermill": {
     "duration": 0.499559,
     "end_time": "2022-07-25T01:18:37.064143",
     "exception": false,
     "start_time": "2022-07-25T01:18:36.564584",
     "status": "completed"
    },
    "tags": []
   },
   "outputs": [
    {
     "data": {
      "text/html": [
       "<div>\n",
       "<style scoped>\n",
       "    .dataframe tbody tr th:only-of-type {\n",
       "        vertical-align: middle;\n",
       "    }\n",
       "\n",
       "    .dataframe tbody tr th {\n",
       "        vertical-align: top;\n",
       "    }\n",
       "\n",
       "    .dataframe thead th {\n",
       "        text-align: right;\n",
       "    }\n",
       "</style>\n",
       "<table border=\"1\" class=\"dataframe\">\n",
       "  <thead>\n",
       "    <tr style=\"text-align: right;\">\n",
       "      <th></th>\n",
       "      <th>id</th>\n",
       "      <th>title</th>\n",
       "      <th>type</th>\n",
       "      <th>description</th>\n",
       "      <th>release_year</th>\n",
       "      <th>age_certification</th>\n",
       "      <th>runtime</th>\n",
       "      <th>genres</th>\n",
       "      <th>production_countries</th>\n",
       "      <th>seasons</th>\n",
       "      <th>imdb_id</th>\n",
       "      <th>imdb_score</th>\n",
       "      <th>imdb_votes</th>\n",
       "      <th>tmdb_popularity</th>\n",
       "      <th>tmdb_score</th>\n",
       "      <th>person_id</th>\n",
       "      <th>name</th>\n",
       "      <th>character</th>\n",
       "      <th>role</th>\n",
       "    </tr>\n",
       "  </thead>\n",
       "  <tbody>\n",
       "    <tr>\n",
       "      <th>24129</th>\n",
       "      <td>tm206512</td>\n",
       "      <td>Circle</td>\n",
       "      <td>MOVIE</td>\n",
       "      <td>In a massive, mysterious chamber, fifty strang...</td>\n",
       "      <td>2015</td>\n",
       "      <td>NaN</td>\n",
       "      <td>87</td>\n",
       "      <td>['scifi', 'thriller', 'horror', 'drama', 'euro...</td>\n",
       "      <td>['US']</td>\n",
       "      <td>NaN</td>\n",
       "      <td>tt4473464</td>\n",
       "      <td>6.0</td>\n",
       "      <td>52925.0</td>\n",
       "      <td>12.217</td>\n",
       "      <td>6.0</td>\n",
       "      <td>249159</td>\n",
       "      <td>Aaron Hann</td>\n",
       "      <td>NaN</td>\n",
       "      <td>DIRECTOR</td>\n",
       "    </tr>\n",
       "    <tr>\n",
       "      <th>54417</th>\n",
       "      <td>ts86927</td>\n",
       "      <td>Touch Your Heart</td>\n",
       "      <td>SHOW</td>\n",
       "      <td>Hoping to make a comeback after a bad scandal,...</td>\n",
       "      <td>2019</td>\n",
       "      <td>TV-MA</td>\n",
       "      <td>63</td>\n",
       "      <td>['comedy', 'drama', 'romance']</td>\n",
       "      <td>['KR']</td>\n",
       "      <td>1.0</td>\n",
       "      <td>tt9466990</td>\n",
       "      <td>7.7</td>\n",
       "      <td>3046.0</td>\n",
       "      <td>22.616</td>\n",
       "      <td>8.4</td>\n",
       "      <td>728226</td>\n",
       "      <td>Park Kyung-hye</td>\n",
       "      <td>Dan Mun-hui</td>\n",
       "      <td>ACTOR</td>\n",
       "    </tr>\n",
       "    <tr>\n",
       "      <th>18852</th>\n",
       "      <td>tm161029</td>\n",
       "      <td>Mr. Peabody &amp; Sherman</td>\n",
       "      <td>MOVIE</td>\n",
       "      <td>A young boy and his dog, who happens to have a...</td>\n",
       "      <td>2014</td>\n",
       "      <td>PG</td>\n",
       "      <td>92</td>\n",
       "      <td>['action', 'family', 'animation', 'history', '...</td>\n",
       "      <td>['US']</td>\n",
       "      <td>NaN</td>\n",
       "      <td>tt0864835</td>\n",
       "      <td>6.8</td>\n",
       "      <td>68790.0</td>\n",
       "      <td>30.690</td>\n",
       "      <td>6.7</td>\n",
       "      <td>108780</td>\n",
       "      <td>Rosemary Alexander</td>\n",
       "      <td>Additional Voices (voice)</td>\n",
       "      <td>ACTOR</td>\n",
       "    </tr>\n",
       "    <tr>\n",
       "      <th>537</th>\n",
       "      <td>tm14350</td>\n",
       "      <td>Alexandria… Why?</td>\n",
       "      <td>MOVIE</td>\n",
       "      <td>Set against the panoramic backdrop of war-torn...</td>\n",
       "      <td>1979</td>\n",
       "      <td>NaN</td>\n",
       "      <td>133</td>\n",
       "      <td>['drama']</td>\n",
       "      <td>['EG']</td>\n",
       "      <td>NaN</td>\n",
       "      <td>tt0077751</td>\n",
       "      <td>7.2</td>\n",
       "      <td>1689.0</td>\n",
       "      <td>1.736</td>\n",
       "      <td>6.0</td>\n",
       "      <td>173191</td>\n",
       "      <td>Youssef Chahine</td>\n",
       "      <td>NaN</td>\n",
       "      <td>DIRECTOR</td>\n",
       "    </tr>\n",
       "    <tr>\n",
       "      <th>30278</th>\n",
       "      <td>tm232500</td>\n",
       "      <td>The Disaster Artist</td>\n",
       "      <td>MOVIE</td>\n",
       "      <td>An aspiring actor in Hollywood meets an enigma...</td>\n",
       "      <td>2017</td>\n",
       "      <td>R</td>\n",
       "      <td>104</td>\n",
       "      <td>['comedy', 'drama']</td>\n",
       "      <td>['US']</td>\n",
       "      <td>NaN</td>\n",
       "      <td>tt3521126</td>\n",
       "      <td>7.3</td>\n",
       "      <td>149604.0</td>\n",
       "      <td>13.876</td>\n",
       "      <td>7.1</td>\n",
       "      <td>806609</td>\n",
       "      <td>Nicole Gordon-Levitt</td>\n",
       "      <td>Girl in Red Dress (uncredited)</td>\n",
       "      <td>ACTOR</td>\n",
       "    </tr>\n",
       "    <tr>\n",
       "      <th>31371</th>\n",
       "      <td>tm346943</td>\n",
       "      <td>Kodachrome</td>\n",
       "      <td>MOVIE</td>\n",
       "      <td>Matt Ryder is convinced to drive his estranged...</td>\n",
       "      <td>2017</td>\n",
       "      <td>NaN</td>\n",
       "      <td>105</td>\n",
       "      <td>['drama', 'comedy', 'european']</td>\n",
       "      <td>['US']</td>\n",
       "      <td>NaN</td>\n",
       "      <td>tt1880399</td>\n",
       "      <td>6.8</td>\n",
       "      <td>16482.0</td>\n",
       "      <td>7.996</td>\n",
       "      <td>6.8</td>\n",
       "      <td>3832</td>\n",
       "      <td>Dennis Haysbert</td>\n",
       "      <td>Larry</td>\n",
       "      <td>ACTOR</td>\n",
       "    </tr>\n",
       "    <tr>\n",
       "      <th>75665</th>\n",
       "      <td>tm810657</td>\n",
       "      <td>Uppena</td>\n",
       "      <td>MOVIE</td>\n",
       "      <td>Aasi has been in love with Bebamma since their...</td>\n",
       "      <td>2021</td>\n",
       "      <td>NaN</td>\n",
       "      <td>147</td>\n",
       "      <td>['drama']</td>\n",
       "      <td>['IN']</td>\n",
       "      <td>NaN</td>\n",
       "      <td>NaN</td>\n",
       "      <td>NaN</td>\n",
       "      <td>NaN</td>\n",
       "      <td>2.920</td>\n",
       "      <td>6.3</td>\n",
       "      <td>124354</td>\n",
       "      <td>Ravi Varma</td>\n",
       "      <td>Rayanam's henchman</td>\n",
       "      <td>ACTOR</td>\n",
       "    </tr>\n",
       "    <tr>\n",
       "      <th>34479</th>\n",
       "      <td>ts84243</td>\n",
       "      <td>Baby</td>\n",
       "      <td>SHOW</td>\n",
       "      <td>Fed up with their families and classmates, two...</td>\n",
       "      <td>2018</td>\n",
       "      <td>TV-MA</td>\n",
       "      <td>45</td>\n",
       "      <td>['drama']</td>\n",
       "      <td>['IT']</td>\n",
       "      <td>3.0</td>\n",
       "      <td>tt7645192</td>\n",
       "      <td>6.8</td>\n",
       "      <td>10990.0</td>\n",
       "      <td>49.167</td>\n",
       "      <td>8.0</td>\n",
       "      <td>140821</td>\n",
       "      <td>Claudia Pandolfi</td>\n",
       "      <td>Monica Petrelli Younes</td>\n",
       "      <td>ACTOR</td>\n",
       "    </tr>\n",
       "    <tr>\n",
       "      <th>38237</th>\n",
       "      <td>ts84346</td>\n",
       "      <td>Falsa identidad</td>\n",
       "      <td>SHOW</td>\n",
       "      <td>Isabel and Diego, two complete strangers, must...</td>\n",
       "      <td>2018</td>\n",
       "      <td>TV-14</td>\n",
       "      <td>43</td>\n",
       "      <td>['action', 'thriller', 'crime', 'drama']</td>\n",
       "      <td>['US', 'MX']</td>\n",
       "      <td>2.0</td>\n",
       "      <td>tt8598690</td>\n",
       "      <td>7.0</td>\n",
       "      <td>351.0</td>\n",
       "      <td>172.609</td>\n",
       "      <td>7.5</td>\n",
       "      <td>322837</td>\n",
       "      <td>Sonya Smith</td>\n",
       "      <td>Fernanda Virrueta</td>\n",
       "      <td>ACTOR</td>\n",
       "    </tr>\n",
       "    <tr>\n",
       "      <th>74450</th>\n",
       "      <td>ts287941</td>\n",
       "      <td>Racket Boys</td>\n",
       "      <td>SHOW</td>\n",
       "      <td>A story of a boys' badminton team at a middle ...</td>\n",
       "      <td>2021</td>\n",
       "      <td>TV-14</td>\n",
       "      <td>70</td>\n",
       "      <td>['comedy', 'family', 'drama', 'sport']</td>\n",
       "      <td>['KR']</td>\n",
       "      <td>1.0</td>\n",
       "      <td>tt14482414</td>\n",
       "      <td>1.8</td>\n",
       "      <td>27484.0</td>\n",
       "      <td>3.427</td>\n",
       "      <td>8.0</td>\n",
       "      <td>59294</td>\n",
       "      <td>Kim Sang-kyung</td>\n",
       "      <td>Yoon Hyun-jong</td>\n",
       "      <td>ACTOR</td>\n",
       "    </tr>\n",
       "  </tbody>\n",
       "</table>\n",
       "</div>"
      ],
      "text/plain": [
       "             id                  title   type  \\\n",
       "24129  tm206512                 Circle  MOVIE   \n",
       "54417   ts86927       Touch Your Heart   SHOW   \n",
       "18852  tm161029  Mr. Peabody & Sherman  MOVIE   \n",
       "537     tm14350       Alexandria… Why?  MOVIE   \n",
       "30278  tm232500    The Disaster Artist  MOVIE   \n",
       "31371  tm346943             Kodachrome  MOVIE   \n",
       "75665  tm810657                 Uppena  MOVIE   \n",
       "34479   ts84243                   Baby   SHOW   \n",
       "38237   ts84346        Falsa identidad   SHOW   \n",
       "74450  ts287941            Racket Boys   SHOW   \n",
       "\n",
       "                                             description  release_year  \\\n",
       "24129  In a massive, mysterious chamber, fifty strang...          2015   \n",
       "54417  Hoping to make a comeback after a bad scandal,...          2019   \n",
       "18852  A young boy and his dog, who happens to have a...          2014   \n",
       "537    Set against the panoramic backdrop of war-torn...          1979   \n",
       "30278  An aspiring actor in Hollywood meets an enigma...          2017   \n",
       "31371  Matt Ryder is convinced to drive his estranged...          2017   \n",
       "75665  Aasi has been in love with Bebamma since their...          2021   \n",
       "34479  Fed up with their families and classmates, two...          2018   \n",
       "38237  Isabel and Diego, two complete strangers, must...          2018   \n",
       "74450  A story of a boys' badminton team at a middle ...          2021   \n",
       "\n",
       "      age_certification  runtime  \\\n",
       "24129               NaN       87   \n",
       "54417             TV-MA       63   \n",
       "18852                PG       92   \n",
       "537                 NaN      133   \n",
       "30278                 R      104   \n",
       "31371               NaN      105   \n",
       "75665               NaN      147   \n",
       "34479             TV-MA       45   \n",
       "38237             TV-14       43   \n",
       "74450             TV-14       70   \n",
       "\n",
       "                                                  genres production_countries  \\\n",
       "24129  ['scifi', 'thriller', 'horror', 'drama', 'euro...               ['US']   \n",
       "54417                     ['comedy', 'drama', 'romance']               ['KR']   \n",
       "18852  ['action', 'family', 'animation', 'history', '...               ['US']   \n",
       "537                                            ['drama']               ['EG']   \n",
       "30278                                ['comedy', 'drama']               ['US']   \n",
       "31371                    ['drama', 'comedy', 'european']               ['US']   \n",
       "75665                                          ['drama']               ['IN']   \n",
       "34479                                          ['drama']               ['IT']   \n",
       "38237           ['action', 'thriller', 'crime', 'drama']         ['US', 'MX']   \n",
       "74450             ['comedy', 'family', 'drama', 'sport']               ['KR']   \n",
       "\n",
       "       seasons     imdb_id  imdb_score  imdb_votes  tmdb_popularity  \\\n",
       "24129      NaN   tt4473464         6.0     52925.0           12.217   \n",
       "54417      1.0   tt9466990         7.7      3046.0           22.616   \n",
       "18852      NaN   tt0864835         6.8     68790.0           30.690   \n",
       "537        NaN   tt0077751         7.2      1689.0            1.736   \n",
       "30278      NaN   tt3521126         7.3    149604.0           13.876   \n",
       "31371      NaN   tt1880399         6.8     16482.0            7.996   \n",
       "75665      NaN         NaN         NaN         NaN            2.920   \n",
       "34479      3.0   tt7645192         6.8     10990.0           49.167   \n",
       "38237      2.0   tt8598690         7.0       351.0          172.609   \n",
       "74450      1.0  tt14482414         1.8     27484.0            3.427   \n",
       "\n",
       "       tmdb_score  person_id                  name  \\\n",
       "24129         6.0     249159            Aaron Hann   \n",
       "54417         8.4     728226        Park Kyung-hye   \n",
       "18852         6.7     108780    Rosemary Alexander   \n",
       "537           6.0     173191       Youssef Chahine   \n",
       "30278         7.1     806609  Nicole Gordon-Levitt   \n",
       "31371         6.8       3832       Dennis Haysbert   \n",
       "75665         6.3     124354            Ravi Varma   \n",
       "34479         8.0     140821      Claudia Pandolfi   \n",
       "38237         7.5     322837           Sonya Smith   \n",
       "74450         8.0      59294        Kim Sang-kyung   \n",
       "\n",
       "                            character      role  \n",
       "24129                             NaN  DIRECTOR  \n",
       "54417                     Dan Mun-hui     ACTOR  \n",
       "18852       Additional Voices (voice)     ACTOR  \n",
       "537                               NaN  DIRECTOR  \n",
       "30278  Girl in Red Dress (uncredited)     ACTOR  \n",
       "31371                           Larry     ACTOR  \n",
       "75665              Rayanam's henchman     ACTOR  \n",
       "34479          Monica Petrelli Younes     ACTOR  \n",
       "38237               Fernanda Virrueta     ACTOR  \n",
       "74450                  Yoon Hyun-jong     ACTOR  "
      ]
     },
     "execution_count": 6,
     "metadata": {},
     "output_type": "execute_result"
    }
   ],
   "source": [
    "df = pd.read_csv(\"../input/netflix-tv-shows-and-movies/titles.csv\")\n",
    "df =df.merge(pd.read_csv('../input/netflix-tv-shows-and-movies/credits.csv'),on='id')\n",
    "df.sample(10)"
   ]
  },
  {
   "cell_type": "markdown",
   "id": "49b0fd0c",
   "metadata": {
    "papermill": {
     "duration": 0.012622,
     "end_time": "2022-07-25T01:18:37.090054",
     "exception": false,
     "start_time": "2022-07-25T01:18:37.077432",
     "status": "completed"
    },
    "tags": []
   },
   "source": [
    "Data frame has 77213 rows and 19 columns"
   ]
  },
  {
   "cell_type": "code",
   "execution_count": 7,
   "id": "e40bf93a",
   "metadata": {
    "execution": {
     "iopub.execute_input": "2022-07-25T01:18:37.118588Z",
     "iopub.status.busy": "2022-07-25T01:18:37.118215Z",
     "iopub.status.idle": "2022-07-25T01:18:37.125774Z",
     "shell.execute_reply": "2022-07-25T01:18:37.124418Z"
    },
    "papermill": {
     "duration": 0.024868,
     "end_time": "2022-07-25T01:18:37.128263",
     "exception": false,
     "start_time": "2022-07-25T01:18:37.103395",
     "status": "completed"
    },
    "tags": []
   },
   "outputs": [
    {
     "data": {
      "text/plain": [
       "(77213, 19)"
      ]
     },
     "execution_count": 7,
     "metadata": {},
     "output_type": "execute_result"
    }
   ],
   "source": [
    "df.shape"
   ]
  },
  {
   "cell_type": "markdown",
   "id": "4fbb3f6e",
   "metadata": {
    "papermill": {
     "duration": 0.0125,
     "end_time": "2022-07-25T01:18:37.154399",
     "exception": false,
     "start_time": "2022-07-25T01:18:37.141899",
     "status": "completed"
    },
    "tags": []
   },
   "source": [
    "After trying to find missing values \n",
    "we found alot of missing data \n",
    "like in 'seasons'"
   ]
  },
  {
   "cell_type": "code",
   "execution_count": 8,
   "id": "8b5462b6",
   "metadata": {
    "execution": {
     "iopub.execute_input": "2022-07-25T01:18:37.182779Z",
     "iopub.status.busy": "2022-07-25T01:18:37.181629Z",
     "iopub.status.idle": "2022-07-25T01:18:37.295635Z",
     "shell.execute_reply": "2022-07-25T01:18:37.294463Z"
    },
    "papermill": {
     "duration": 0.131914,
     "end_time": "2022-07-25T01:18:37.299196",
     "exception": false,
     "start_time": "2022-07-25T01:18:37.167282",
     "status": "completed"
    },
    "tags": []
   },
   "outputs": [
    {
     "name": "stdout",
     "output_type": "stream",
     "text": [
      "<class 'pandas.core.frame.DataFrame'>\n",
      "Int64Index: 77213 entries, 0 to 77212\n",
      "Data columns (total 19 columns):\n",
      " #   Column                Non-Null Count  Dtype  \n",
      "---  ------                --------------  -----  \n",
      " 0   id                    77213 non-null  object \n",
      " 1   title                 77212 non-null  object \n",
      " 2   type                  77213 non-null  object \n",
      " 3   description           77160 non-null  object \n",
      " 4   release_year          77213 non-null  int64  \n",
      " 5   age_certification     46595 non-null  object \n",
      " 6   runtime               77213 non-null  int64  \n",
      " 7   genres                77213 non-null  object \n",
      " 8   production_countries  77213 non-null  object \n",
      " 9   seasons               13976 non-null  float64\n",
      " 10  imdb_id               73388 non-null  object \n",
      " 11  imdb_score            72937 non-null  float64\n",
      " 12  imdb_votes            72850 non-null  float64\n",
      " 13  tmdb_popularity       77202 non-null  float64\n",
      " 14  tmdb_score            76093 non-null  float64\n",
      " 15  person_id             77213 non-null  int64  \n",
      " 16  name                  77213 non-null  object \n",
      " 17  character             67586 non-null  object \n",
      " 18  role                  77213 non-null  object \n",
      "dtypes: float64(5), int64(3), object(11)\n",
      "memory usage: 11.8+ MB\n"
     ]
    }
   ],
   "source": [
    "df.info()"
   ]
  },
  {
   "cell_type": "markdown",
   "id": "52c3ec5d",
   "metadata": {
    "papermill": {
     "duration": 0.013195,
     "end_time": "2022-07-25T01:18:37.326729",
     "exception": false,
     "start_time": "2022-07-25T01:18:37.313534",
     "status": "completed"
    },
    "tags": []
   },
   "source": [
    "## Handling missing values"
   ]
  },
  {
   "cell_type": "markdown",
   "id": "2fe1bf34",
   "metadata": {
    "papermill": {
     "duration": 0.012896,
     "end_time": "2022-07-25T01:18:37.353078",
     "exception": false,
     "start_time": "2022-07-25T01:18:37.340182",
     "status": "completed"
    },
    "tags": []
   },
   "source": [
    "'seasons' column has alot of missing values so , it will be deleted"
   ]
  },
  {
   "cell_type": "code",
   "execution_count": 9,
   "id": "4060eead",
   "metadata": {
    "execution": {
     "iopub.execute_input": "2022-07-25T01:18:37.383134Z",
     "iopub.status.busy": "2022-07-25T01:18:37.381985Z",
     "iopub.status.idle": "2022-07-25T01:18:37.403966Z",
     "shell.execute_reply": "2022-07-25T01:18:37.402646Z"
    },
    "papermill": {
     "duration": 0.040483,
     "end_time": "2022-07-25T01:18:37.407079",
     "exception": false,
     "start_time": "2022-07-25T01:18:37.366596",
     "status": "completed"
    },
    "tags": []
   },
   "outputs": [],
   "source": [
    "df.drop('seasons',axis=1,inplace = True)"
   ]
  },
  {
   "cell_type": "markdown",
   "id": "e647c3f7",
   "metadata": {
    "papermill": {
     "duration": 0.012249,
     "end_time": "2022-07-25T01:18:37.432725",
     "exception": false,
     "start_time": "2022-07-25T01:18:37.420476",
     "status": "completed"
    },
    "tags": []
   },
   "source": [
    "then we will drop all null valuse in our dataset\n",
    "we lost alot of data, after droping null values \n",
    "but we still have good amounf for our analysis"
   ]
  },
  {
   "cell_type": "code",
   "execution_count": 10,
   "id": "7eba9065",
   "metadata": {
    "execution": {
     "iopub.execute_input": "2022-07-25T01:18:37.459486Z",
     "iopub.status.busy": "2022-07-25T01:18:37.458746Z",
     "iopub.status.idle": "2022-07-25T01:18:37.582796Z",
     "shell.execute_reply": "2022-07-25T01:18:37.581209Z"
    },
    "papermill": {
     "duration": 0.141133,
     "end_time": "2022-07-25T01:18:37.586118",
     "exception": false,
     "start_time": "2022-07-25T01:18:37.444985",
     "status": "completed"
    },
    "tags": []
   },
   "outputs": [],
   "source": [
    "df=df.dropna()"
   ]
  },
  {
   "cell_type": "markdown",
   "id": "fa90ac43",
   "metadata": {
    "papermill": {
     "duration": 0.012441,
     "end_time": "2022-07-25T01:18:37.611486",
     "exception": false,
     "start_time": "2022-07-25T01:18:37.599045",
     "status": "completed"
    },
    "tags": []
   },
   "source": [
    "Making sure there is no null values"
   ]
  },
  {
   "cell_type": "code",
   "execution_count": 11,
   "id": "e8657d39",
   "metadata": {
    "execution": {
     "iopub.execute_input": "2022-07-25T01:18:37.638717Z",
     "iopub.status.busy": "2022-07-25T01:18:37.637593Z",
     "iopub.status.idle": "2022-07-25T01:18:37.704442Z",
     "shell.execute_reply": "2022-07-25T01:18:37.702927Z"
    },
    "papermill": {
     "duration": 0.083216,
     "end_time": "2022-07-25T01:18:37.707140",
     "exception": false,
     "start_time": "2022-07-25T01:18:37.623924",
     "status": "completed"
    },
    "tags": []
   },
   "outputs": [
    {
     "data": {
      "text/plain": [
       "id                      0\n",
       "title                   0\n",
       "type                    0\n",
       "description             0\n",
       "release_year            0\n",
       "age_certification       0\n",
       "runtime                 0\n",
       "genres                  0\n",
       "production_countries    0\n",
       "imdb_id                 0\n",
       "imdb_score              0\n",
       "imdb_votes              0\n",
       "tmdb_popularity         0\n",
       "tmdb_score              0\n",
       "person_id               0\n",
       "name                    0\n",
       "character               0\n",
       "role                    0\n",
       "dtype: int64"
      ]
     },
     "execution_count": 11,
     "metadata": {},
     "output_type": "execute_result"
    }
   ],
   "source": [
    "df.isna().sum()"
   ]
  },
  {
   "cell_type": "markdown",
   "id": "20c3d7d9",
   "metadata": {
    "papermill": {
     "duration": 0.012367,
     "end_time": "2022-07-25T01:18:37.732661",
     "exception": false,
     "start_time": "2022-07-25T01:18:37.720294",
     "status": "completed"
    },
    "tags": []
   },
   "source": [
    "## Explorator Analysis and Visualization\n",
    "we will explore out data to find min and max and std\n",
    "most repeated valuse and so on"
   ]
  },
  {
   "cell_type": "code",
   "execution_count": 12,
   "id": "048b28aa",
   "metadata": {
    "execution": {
     "iopub.execute_input": "2022-07-25T01:18:37.760260Z",
     "iopub.status.busy": "2022-07-25T01:18:37.759301Z",
     "iopub.status.idle": "2022-07-25T01:18:37.766133Z",
     "shell.execute_reply": "2022-07-25T01:18:37.765062Z"
    },
    "papermill": {
     "duration": 0.02468,
     "end_time": "2022-07-25T01:18:37.769832",
     "exception": false,
     "start_time": "2022-07-25T01:18:37.745152",
     "status": "completed"
    },
    "tags": []
   },
   "outputs": [],
   "source": [
    "sns.set_style('darkgrid')\n",
    "matplotlib.rcParams['font.size'] = 14\n",
    "matplotlib.rcParams['figure.figsize'] = (9, 5)\n",
    "matplotlib.rcParams['figure.facecolor'] = '#00000000'"
   ]
  },
  {
   "cell_type": "markdown",
   "id": "02b140d6",
   "metadata": {
    "papermill": {
     "duration": 0.013189,
     "end_time": "2022-07-25T01:18:37.797074",
     "exception": false,
     "start_time": "2022-07-25T01:18:37.783885",
     "status": "completed"
    },
    "tags": []
   },
   "source": [
    "find mean and std and other statistics of runtime, votes and popularity"
   ]
  },
  {
   "cell_type": "code",
   "execution_count": 13,
   "id": "0219f7b2",
   "metadata": {
    "execution": {
     "iopub.execute_input": "2022-07-25T01:18:37.825986Z",
     "iopub.status.busy": "2022-07-25T01:18:37.825524Z",
     "iopub.status.idle": "2022-07-25T01:18:37.874281Z",
     "shell.execute_reply": "2022-07-25T01:18:37.873317Z"
    },
    "papermill": {
     "duration": 0.066726,
     "end_time": "2022-07-25T01:18:37.876982",
     "exception": false,
     "start_time": "2022-07-25T01:18:37.810256",
     "status": "completed"
    },
    "tags": []
   },
   "outputs": [
    {
     "data": {
      "text/html": [
       "<div>\n",
       "<style scoped>\n",
       "    .dataframe tbody tr th:only-of-type {\n",
       "        vertical-align: middle;\n",
       "    }\n",
       "\n",
       "    .dataframe tbody tr th {\n",
       "        vertical-align: top;\n",
       "    }\n",
       "\n",
       "    .dataframe thead th {\n",
       "        text-align: right;\n",
       "    }\n",
       "</style>\n",
       "<table border=\"1\" class=\"dataframe\">\n",
       "  <thead>\n",
       "    <tr style=\"text-align: right;\">\n",
       "      <th></th>\n",
       "      <th>runtime</th>\n",
       "      <th>imdb_votes</th>\n",
       "      <th>tmdb_popularity</th>\n",
       "    </tr>\n",
       "  </thead>\n",
       "  <tbody>\n",
       "    <tr>\n",
       "      <th>count</th>\n",
       "      <td>41251.000000</td>\n",
       "      <td>4.125100e+04</td>\n",
       "      <td>41251.000000</td>\n",
       "    </tr>\n",
       "    <tr>\n",
       "      <th>mean</th>\n",
       "      <td>95.482000</td>\n",
       "      <td>9.455832e+04</td>\n",
       "      <td>35.032964</td>\n",
       "    </tr>\n",
       "    <tr>\n",
       "      <th>std</th>\n",
       "      <td>37.860817</td>\n",
       "      <td>1.937883e+05</td>\n",
       "      <td>67.076239</td>\n",
       "    </tr>\n",
       "    <tr>\n",
       "      <th>min</th>\n",
       "      <td>0.000000</td>\n",
       "      <td>5.000000e+00</td>\n",
       "      <td>0.600000</td>\n",
       "    </tr>\n",
       "    <tr>\n",
       "      <th>25%</th>\n",
       "      <td>76.000000</td>\n",
       "      <td>4.649000e+03</td>\n",
       "      <td>10.782000</td>\n",
       "    </tr>\n",
       "    <tr>\n",
       "      <th>50%</th>\n",
       "      <td>100.000000</td>\n",
       "      <td>2.446800e+04</td>\n",
       "      <td>17.730000</td>\n",
       "    </tr>\n",
       "    <tr>\n",
       "      <th>75%</th>\n",
       "      <td>120.000000</td>\n",
       "      <td>1.110920e+05</td>\n",
       "      <td>34.763000</td>\n",
       "    </tr>\n",
       "    <tr>\n",
       "      <th>max</th>\n",
       "      <td>229.000000</td>\n",
       "      <td>2.268288e+06</td>\n",
       "      <td>1455.085000</td>\n",
       "    </tr>\n",
       "  </tbody>\n",
       "</table>\n",
       "</div>"
      ],
      "text/plain": [
       "            runtime    imdb_votes  tmdb_popularity\n",
       "count  41251.000000  4.125100e+04     41251.000000\n",
       "mean      95.482000  9.455832e+04        35.032964\n",
       "std       37.860817  1.937883e+05        67.076239\n",
       "min        0.000000  5.000000e+00         0.600000\n",
       "25%       76.000000  4.649000e+03        10.782000\n",
       "50%      100.000000  2.446800e+04        17.730000\n",
       "75%      120.000000  1.110920e+05        34.763000\n",
       "max      229.000000  2.268288e+06      1455.085000"
      ]
     },
     "execution_count": 13,
     "metadata": {},
     "output_type": "execute_result"
    }
   ],
   "source": [
    "df.describe()[['runtime','imdb_votes','tmdb_popularity']]"
   ]
  },
  {
   "cell_type": "markdown",
   "id": "d5ae7f54",
   "metadata": {
    "papermill": {
     "duration": 0.012204,
     "end_time": "2022-07-25T01:18:37.901998",
     "exception": false,
     "start_time": "2022-07-25T01:18:37.889794",
     "status": "completed"
    },
    "tags": []
   },
   "source": [
    "using hostogram to know which year has most movies release\n",
    "answer is 2020"
   ]
  },
  {
   "cell_type": "code",
   "execution_count": 14,
   "id": "2e20173c",
   "metadata": {
    "execution": {
     "iopub.execute_input": "2022-07-25T01:18:37.930214Z",
     "iopub.status.busy": "2022-07-25T01:18:37.928735Z",
     "iopub.status.idle": "2022-07-25T01:18:38.285926Z",
     "shell.execute_reply": "2022-07-25T01:18:38.284679Z"
    },
    "papermill": {
     "duration": 0.374283,
     "end_time": "2022-07-25T01:18:38.289054",
     "exception": false,
     "start_time": "2022-07-25T01:18:37.914771",
     "status": "completed"
    },
    "tags": []
   },
   "outputs": [
    {
     "data": {
      "image/png": "[encoded data removed]",
      "text/plain": [
       "<Figure size 648x360 with 1 Axes>"
      ]
     },
     "metadata": {
      "needs_background": "light"
     },
     "output_type": "display_data"
    }
   ],
   "source": [
    "df.hist('release_year');"
   ]
  },
  {
   "cell_type": "markdown",
   "id": "ecaab0b3",
   "metadata": {
    "papermill": {
     "duration": 0.0148,
     "end_time": "2022-07-25T01:18:38.319941",
     "exception": false,
     "start_time": "2022-07-25T01:18:38.305141",
     "status": "completed"
    },
    "tags": []
   },
   "source": [
    "using histogarm to know average score movies has got\n",
    "answer is about 7"
   ]
  },
  {
   "cell_type": "code",
   "execution_count": 15,
   "id": "05c0a81a",
   "metadata": {
    "execution": {
     "iopub.execute_input": "2022-07-25T01:18:38.350401Z",
     "iopub.status.busy": "2022-07-25T01:18:38.349984Z",
     "iopub.status.idle": "2022-07-25T01:18:38.575250Z",
     "shell.execute_reply": "2022-07-25T01:18:38.574223Z"
    },
    "papermill": {
     "duration": 0.243686,
     "end_time": "2022-07-25T01:18:38.577917",
     "exception": false,
     "start_time": "2022-07-25T01:18:38.334231",
     "status": "completed"
    },
    "tags": []
   },
   "outputs": [
    {
     "data": {
      "image/png": "[encoded data removed]",
      "text/plain": [
       "<Figure size 648x360 with 1 Axes>"
      ]
     },
     "metadata": {
      "needs_background": "light"
     },
     "output_type": "display_data"
    }
   ],
   "source": [
    "df.hist('tmdb_score');"
   ]
  },
  {
   "cell_type": "markdown",
   "id": "2da67261",
   "metadata": {
    "papermill": {
     "duration": 0.014928,
     "end_time": "2022-07-25T01:18:38.608861",
     "exception": false,
     "start_time": "2022-07-25T01:18:38.593933",
     "status": "completed"
    },
    "tags": []
   },
   "source": [
    "exploring runtime average of movies\n",
    "and it is between 120 and 140"
   ]
  },
  {
   "cell_type": "code",
   "execution_count": 16,
   "id": "558ab64e",
   "metadata": {
    "execution": {
     "iopub.execute_input": "2022-07-25T01:18:38.641325Z",
     "iopub.status.busy": "2022-07-25T01:18:38.640262Z",
     "iopub.status.idle": "2022-07-25T01:18:38.967650Z",
     "shell.execute_reply": "2022-07-25T01:18:38.966048Z"
    },
    "papermill": {
     "duration": 0.347185,
     "end_time": "2022-07-25T01:18:38.971152",
     "exception": false,
     "start_time": "2022-07-25T01:18:38.623967",
     "status": "completed"
    },
    "tags": []
   },
   "outputs": [
    {
     "data": {
      "image/png": "[encoded data removed]",
      "text/plain": [
       "<Figure size 648x360 with 1 Axes>"
      ]
     },
     "metadata": {
      "needs_background": "light"
     },
     "output_type": "display_data"
    }
   ],
   "source": [
    "df.drop_duplicates().hist('runtime');"
   ]
  },
  {
   "cell_type": "markdown",
   "id": "2132dcc1",
   "metadata": {
    "papermill": {
     "duration": 0.013831,
     "end_time": "2022-07-25T01:18:39.000572",
     "exception": false,
     "start_time": "2022-07-25T01:18:38.986741",
     "status": "completed"
    },
    "tags": []
   },
   "source": [
    "# Ask and Answer Questions\n",
    "asking some questions to answer, and know more from data"
   ]
  },
  {
   "cell_type": "markdown",
   "id": "c4e775bb",
   "metadata": {
    "papermill": {
     "duration": 0.014362,
     "end_time": "2022-07-25T01:18:39.029136",
     "exception": false,
     "start_time": "2022-07-25T01:18:39.014774",
     "status": "completed"
    },
    "tags": []
   },
   "source": [
    "## Q1: What is Average runtime of movies\n",
    "answer : average runtime is 72.5 minutes"
   ]
  },
  {
   "cell_type": "code",
   "execution_count": 17,
   "id": "b945a4cf",
   "metadata": {
    "execution": {
     "iopub.execute_input": "2022-07-25T01:18:39.061200Z",
     "iopub.status.busy": "2022-07-25T01:18:39.059626Z",
     "iopub.status.idle": "2022-07-25T01:18:39.091358Z",
     "shell.execute_reply": "2022-07-25T01:18:39.090344Z"
    },
    "papermill": {
     "duration": 0.049954,
     "end_time": "2022-07-25T01:18:39.093519",
     "exception": false,
     "start_time": "2022-07-25T01:18:39.043565",
     "status": "completed"
    },
    "tags": []
   },
   "outputs": [
    {
     "data": {
      "text/html": [
       "<div>\n",
       "<style scoped>\n",
       "    .dataframe tbody tr th:only-of-type {\n",
       "        vertical-align: middle;\n",
       "    }\n",
       "\n",
       "    .dataframe tbody tr th {\n",
       "        vertical-align: top;\n",
       "    }\n",
       "\n",
       "    .dataframe thead th {\n",
       "        text-align: right;\n",
       "    }\n",
       "</style>\n",
       "<table border=\"1\" class=\"dataframe\">\n",
       "  <thead>\n",
       "    <tr style=\"text-align: right;\">\n",
       "      <th></th>\n",
       "      <th>runtime</th>\n",
       "    </tr>\n",
       "  </thead>\n",
       "  <tbody>\n",
       "    <tr>\n",
       "      <th>count</th>\n",
       "      <td>2587.000000</td>\n",
       "    </tr>\n",
       "    <tr>\n",
       "      <th>mean</th>\n",
       "      <td>72.634712</td>\n",
       "    </tr>\n",
       "    <tr>\n",
       "      <th>std</th>\n",
       "      <td>40.418450</td>\n",
       "    </tr>\n",
       "    <tr>\n",
       "      <th>min</th>\n",
       "      <td>0.000000</td>\n",
       "    </tr>\n",
       "    <tr>\n",
       "      <th>25%</th>\n",
       "      <td>41.000000</td>\n",
       "    </tr>\n",
       "    <tr>\n",
       "      <th>50%</th>\n",
       "      <td>65.000000</td>\n",
       "    </tr>\n",
       "    <tr>\n",
       "      <th>75%</th>\n",
       "      <td>103.000000</td>\n",
       "    </tr>\n",
       "    <tr>\n",
       "      <th>max</th>\n",
       "      <td>229.000000</td>\n",
       "    </tr>\n",
       "  </tbody>\n",
       "</table>\n",
       "</div>"
      ],
      "text/plain": [
       "           runtime\n",
       "count  2587.000000\n",
       "mean     72.634712\n",
       "std      40.418450\n",
       "min       0.000000\n",
       "25%      41.000000\n",
       "50%      65.000000\n",
       "75%     103.000000\n",
       "max     229.000000"
      ]
     },
     "execution_count": 17,
     "metadata": {},
     "output_type": "execute_result"
    }
   ],
   "source": [
    "df[['id','type','runtime']].drop_duplicates()[['runtime']].describe()\n",
    "\n",
    "# max runtime is 229 minutes\n",
    "# std is 40.5 minutes"
   ]
  },
  {
   "cell_type": "markdown",
   "id": "11de7a07",
   "metadata": {
    "papermill": {
     "duration": 0.014584,
     "end_time": "2022-07-25T01:18:39.122789",
     "exception": false,
     "start_time": "2022-07-25T01:18:39.108205",
     "status": "completed"
    },
    "tags": []
   },
   "source": [
    "## Q2: What movies Bryan Cranston Did?"
   ]
  },
  {
   "cell_type": "code",
   "execution_count": 18,
   "id": "16f8724b",
   "metadata": {
    "execution": {
     "iopub.execute_input": "2022-07-25T01:18:39.154627Z",
     "iopub.status.busy": "2022-07-25T01:18:39.153342Z",
     "iopub.status.idle": "2022-07-25T01:18:39.177977Z",
     "shell.execute_reply": "2022-07-25T01:18:39.176887Z"
    },
    "papermill": {
     "duration": 0.043175,
     "end_time": "2022-07-25T01:18:39.180716",
     "exception": false,
     "start_time": "2022-07-25T01:18:39.137541",
     "status": "completed"
    },
    "tags": []
   },
   "outputs": [
    {
     "data": {
      "text/html": [
       "<div>\n",
       "<style scoped>\n",
       "    .dataframe tbody tr th:only-of-type {\n",
       "        vertical-align: middle;\n",
       "    }\n",
       "\n",
       "    .dataframe tbody tr th {\n",
       "        vertical-align: top;\n",
       "    }\n",
       "\n",
       "    .dataframe thead th {\n",
       "        text-align: right;\n",
       "    }\n",
       "</style>\n",
       "<table border=\"1\" class=\"dataframe\">\n",
       "  <thead>\n",
       "    <tr style=\"text-align: right;\">\n",
       "      <th></th>\n",
       "      <th>title</th>\n",
       "      <th>release_year</th>\n",
       "      <th>imdb_score</th>\n",
       "      <th>character</th>\n",
       "    </tr>\n",
       "  </thead>\n",
       "  <tbody>\n",
       "    <tr>\n",
       "      <th>1950</th>\n",
       "      <td>Saving Private Ryan</td>\n",
       "      <td>1998</td>\n",
       "      <td>8.6</td>\n",
       "      <td>War Department Colonel</td>\n",
       "    </tr>\n",
       "    <tr>\n",
       "      <th>4564</th>\n",
       "      <td>Breaking Bad</td>\n",
       "      <td>2008</td>\n",
       "      <td>9.5</td>\n",
       "      <td>Walter White</td>\n",
       "    </tr>\n",
       "    <tr>\n",
       "      <th>13841</th>\n",
       "      <td>Argo</td>\n",
       "      <td>2012</td>\n",
       "      <td>7.7</td>\n",
       "      <td>Jack O'Donnell</td>\n",
       "    </tr>\n",
       "    <tr>\n",
       "      <th>14398</th>\n",
       "      <td>Contagion</td>\n",
       "      <td>2011</td>\n",
       "      <td>6.8</td>\n",
       "      <td>Lyle Haggerty</td>\n",
       "    </tr>\n",
       "    <tr>\n",
       "      <th>14968</th>\n",
       "      <td>Total Recall</td>\n",
       "      <td>2012</td>\n",
       "      <td>6.2</td>\n",
       "      <td>Cohaagen</td>\n",
       "    </tr>\n",
       "    <tr>\n",
       "      <th>21988</th>\n",
       "      <td>Kung Fu Panda 3</td>\n",
       "      <td>2016</td>\n",
       "      <td>7.1</td>\n",
       "      <td>Li Shan (voice)</td>\n",
       "    </tr>\n",
       "    <tr>\n",
       "      <th>30259</th>\n",
       "      <td>The Disaster Artist</td>\n",
       "      <td>2017</td>\n",
       "      <td>7.3</td>\n",
       "      <td>Himself (uncredited)</td>\n",
       "    </tr>\n",
       "    <tr>\n",
       "      <th>46970</th>\n",
       "      <td>El Camino: A Breaking Bad Movie</td>\n",
       "      <td>2019</td>\n",
       "      <td>7.3</td>\n",
       "      <td>Walter White</td>\n",
       "    </tr>\n",
       "  </tbody>\n",
       "</table>\n",
       "</div>"
      ],
      "text/plain": [
       "                                 title  release_year  imdb_score  \\\n",
       "1950               Saving Private Ryan          1998         8.6   \n",
       "4564                      Breaking Bad          2008         9.5   \n",
       "13841                             Argo          2012         7.7   \n",
       "14398                        Contagion          2011         6.8   \n",
       "14968                     Total Recall          2012         6.2   \n",
       "21988                  Kung Fu Panda 3          2016         7.1   \n",
       "30259              The Disaster Artist          2017         7.3   \n",
       "46970  El Camino: A Breaking Bad Movie          2019         7.3   \n",
       "\n",
       "                    character  \n",
       "1950   War Department Colonel  \n",
       "4564             Walter White  \n",
       "13841          Jack O'Donnell  \n",
       "14398           Lyle Haggerty  \n",
       "14968                Cohaagen  \n",
       "21988         Li Shan (voice)  \n",
       "30259    Himself (uncredited)  \n",
       "46970            Walter White  "
      ]
     },
     "execution_count": 18,
     "metadata": {},
     "output_type": "execute_result"
    }
   ],
   "source": [
    "# df[df['title'] == \"Breaking Bad\"]\n",
    "df[df['name'] == 'Bryan Cranston'][['title','release_year','imdb_score','character']]\n"
   ]
  },
  {
   "cell_type": "markdown",
   "id": "43051a63",
   "metadata": {
    "papermill": {
     "duration": 0.016271,
     "end_time": "2022-07-25T01:18:39.213396",
     "exception": false,
     "start_time": "2022-07-25T01:18:39.197125",
     "status": "completed"
    },
    "tags": []
   },
   "source": [
    "## Q3: Does the year of release affect the runtime of the film?\n",
    "or what is average movies time by year\n",
    "answer: num of movies per year affect values of mean values, so answer is not effective\n",
    "answer: runtime of old movies are all in haight average, not like 2020 movies has hight range runtime"
   ]
  },
  {
   "cell_type": "code",
   "execution_count": 19,
   "id": "bd45584e",
   "metadata": {
    "execution": {
     "iopub.execute_input": "2022-07-25T01:18:39.248648Z",
     "iopub.status.busy": "2022-07-25T01:18:39.247248Z",
     "iopub.status.idle": "2022-07-25T01:18:39.519969Z",
     "shell.execute_reply": "2022-07-25T01:18:39.519052Z"
    },
    "papermill": {
     "duration": 0.293221,
     "end_time": "2022-07-25T01:18:39.522745",
     "exception": false,
     "start_time": "2022-07-25T01:18:39.229524",
     "status": "completed"
    },
    "tags": []
   },
   "outputs": [
    {
     "data": {
      "image/png": "[encoded data removed]",
      "text/plain": [
       "<Figure size 648x360 with 1 Axes>"
      ]
     },
     "metadata": {
      "needs_background": "light"
     },
     "output_type": "display_data"
    }
   ],
   "source": [
    "df[['title','release_year','runtime']].drop_duplicates().groupby('release_year')[['runtime']].mean().plot()\n",
    "plt.title('average movie runtime by year');"
   ]
  },
  {
   "cell_type": "markdown",
   "id": "fc5260ab",
   "metadata": {
    "papermill": {
     "duration": 0.01574,
     "end_time": "2022-07-25T01:18:39.554860",
     "exception": false,
     "start_time": "2022-07-25T01:18:39.539120",
     "status": "completed"
    },
    "tags": []
   },
   "source": [
    "## Q4: what is heighest imdb_score ( Most 10 liked movies )\n",
    "answer: most liked movie is Breaking Bad in 2008 and runtime is 48 minutes with score 9.5"
   ]
  },
  {
   "cell_type": "code",
   "execution_count": 20,
   "id": "fef01d3e",
   "metadata": {
    "execution": {
     "iopub.execute_input": "2022-07-25T01:18:39.587906Z",
     "iopub.status.busy": "2022-07-25T01:18:39.587522Z",
     "iopub.status.idle": "2022-07-25T01:18:39.614608Z",
     "shell.execute_reply": "2022-07-25T01:18:39.613488Z"
    },
    "papermill": {
     "duration": 0.04705,
     "end_time": "2022-07-25T01:18:39.617302",
     "exception": false,
     "start_time": "2022-07-25T01:18:39.570252",
     "status": "completed"
    },
    "tags": []
   },
   "outputs": [
    {
     "data": {
      "text/html": [
       "<div>\n",
       "<style scoped>\n",
       "    .dataframe tbody tr th:only-of-type {\n",
       "        vertical-align: middle;\n",
       "    }\n",
       "\n",
       "    .dataframe tbody tr th {\n",
       "        vertical-align: top;\n",
       "    }\n",
       "\n",
       "    .dataframe thead th {\n",
       "        text-align: right;\n",
       "    }\n",
       "</style>\n",
       "<table border=\"1\" class=\"dataframe\">\n",
       "  <thead>\n",
       "    <tr style=\"text-align: right;\">\n",
       "      <th></th>\n",
       "      <th>title</th>\n",
       "      <th>release_year</th>\n",
       "      <th>runtime</th>\n",
       "      <th>imdb_score</th>\n",
       "    </tr>\n",
       "  </thead>\n",
       "  <tbody>\n",
       "    <tr>\n",
       "      <th>4564</th>\n",
       "      <td>Breaking Bad</td>\n",
       "      <td>2008</td>\n",
       "      <td>48</td>\n",
       "      <td>9.5</td>\n",
       "    </tr>\n",
       "    <tr>\n",
       "      <th>4818</th>\n",
       "      <td>Avatar: The Last Airbender</td>\n",
       "      <td>2005</td>\n",
       "      <td>24</td>\n",
       "      <td>9.3</td>\n",
       "    </tr>\n",
       "    <tr>\n",
       "      <th>49003</th>\n",
       "      <td>Our Planet</td>\n",
       "      <td>2019</td>\n",
       "      <td>50</td>\n",
       "      <td>9.3</td>\n",
       "    </tr>\n",
       "    <tr>\n",
       "      <th>56635</th>\n",
       "      <td>Kota Factory</td>\n",
       "      <td>2019</td>\n",
       "      <td>42</td>\n",
       "      <td>9.3</td>\n",
       "    </tr>\n",
       "    <tr>\n",
       "      <th>33760</th>\n",
       "      <td>My Mister</td>\n",
       "      <td>2018</td>\n",
       "      <td>79</td>\n",
       "      <td>9.2</td>\n",
       "    </tr>\n",
       "    <tr>\n",
       "      <th>69642</th>\n",
       "      <td>Who Rules The World</td>\n",
       "      <td>2022</td>\n",
       "      <td>44</td>\n",
       "      <td>9.2</td>\n",
       "    </tr>\n",
       "    <tr>\n",
       "      <th>25206</th>\n",
       "      <td>Reply 1988</td>\n",
       "      <td>2015</td>\n",
       "      <td>95</td>\n",
       "      <td>9.2</td>\n",
       "    </tr>\n",
       "    <tr>\n",
       "      <th>66142</th>\n",
       "      <td>Arcane</td>\n",
       "      <td>2021</td>\n",
       "      <td>41</td>\n",
       "      <td>9.1</td>\n",
       "    </tr>\n",
       "    <tr>\n",
       "      <th>46184</th>\n",
       "      <td>The Last Dance</td>\n",
       "      <td>2020</td>\n",
       "      <td>50</td>\n",
       "      <td>9.1</td>\n",
       "    </tr>\n",
       "    <tr>\n",
       "      <th>22515</th>\n",
       "      <td>Leah Remini: Scientology and the Aftermath</td>\n",
       "      <td>2016</td>\n",
       "      <td>46</td>\n",
       "      <td>9.0</td>\n",
       "    </tr>\n",
       "  </tbody>\n",
       "</table>\n",
       "</div>"
      ],
      "text/plain": [
       "                                            title  release_year  runtime  \\\n",
       "4564                                 Breaking Bad          2008       48   \n",
       "4818                   Avatar: The Last Airbender          2005       24   \n",
       "49003                                  Our Planet          2019       50   \n",
       "56635                                Kota Factory          2019       42   \n",
       "33760                                   My Mister          2018       79   \n",
       "69642                         Who Rules The World          2022       44   \n",
       "25206                                  Reply 1988          2015       95   \n",
       "66142                                      Arcane          2021       41   \n",
       "46184                              The Last Dance          2020       50   \n",
       "22515  Leah Remini: Scientology and the Aftermath          2016       46   \n",
       "\n",
       "       imdb_score  \n",
       "4564          9.5  \n",
       "4818          9.3  \n",
       "49003         9.3  \n",
       "56635         9.3  \n",
       "33760         9.2  \n",
       "69642         9.2  \n",
       "25206         9.2  \n",
       "66142         9.1  \n",
       "46184         9.1  \n",
       "22515         9.0  "
      ]
     },
     "execution_count": 20,
     "metadata": {},
     "output_type": "execute_result"
    }
   ],
   "source": [
    "df[['title','release_year','runtime','imdb_score']].drop_duplicates().sort_values(['imdb_score'],ascending = False).head(10)"
   ]
  },
  {
   "cell_type": "markdown",
   "id": "9b32d573",
   "metadata": {
    "papermill": {
     "duration": 0.015739,
     "end_time": "2022-07-25T01:18:39.648279",
     "exception": false,
     "start_time": "2022-07-25T01:18:39.632540",
     "status": "completed"
    },
    "tags": []
   },
   "source": [
    "## Q5: what is Lowest imdb_score ( Most 10 liked movies )\n",
    "answer: Lowest liked movie is Aerials in 2016 and runtime is 90 minutes with score 1.5"
   ]
  },
  {
   "cell_type": "code",
   "execution_count": 21,
   "id": "f6abf188",
   "metadata": {
    "execution": {
     "iopub.execute_input": "2022-07-25T01:18:39.681447Z",
     "iopub.status.busy": "2022-07-25T01:18:39.681001Z",
     "iopub.status.idle": "2022-07-25T01:18:39.710246Z",
     "shell.execute_reply": "2022-07-25T01:18:39.709179Z"
    },
    "papermill": {
     "duration": 0.048494,
     "end_time": "2022-07-25T01:18:39.712488",
     "exception": false,
     "start_time": "2022-07-25T01:18:39.663994",
     "status": "completed"
    },
    "tags": []
   },
   "outputs": [
    {
     "data": {
      "text/html": [
       "<div>\n",
       "<style scoped>\n",
       "    .dataframe tbody tr th:only-of-type {\n",
       "        vertical-align: middle;\n",
       "    }\n",
       "\n",
       "    .dataframe tbody tr th {\n",
       "        vertical-align: top;\n",
       "    }\n",
       "\n",
       "    .dataframe thead th {\n",
       "        text-align: right;\n",
       "    }\n",
       "</style>\n",
       "<table border=\"1\" class=\"dataframe\">\n",
       "  <thead>\n",
       "    <tr style=\"text-align: right;\">\n",
       "      <th></th>\n",
       "      <th>title</th>\n",
       "      <th>release_year</th>\n",
       "      <th>runtime</th>\n",
       "      <th>imdb_score</th>\n",
       "    </tr>\n",
       "  </thead>\n",
       "  <tbody>\n",
       "    <tr>\n",
       "      <th>65787</th>\n",
       "      <td>Luccas Neto in: Summer Camp</td>\n",
       "      <td>2019</td>\n",
       "      <td>87</td>\n",
       "      <td>2.8</td>\n",
       "    </tr>\n",
       "    <tr>\n",
       "      <th>57614</th>\n",
       "      <td>The Goop Lab</td>\n",
       "      <td>2020</td>\n",
       "      <td>33</td>\n",
       "      <td>2.5</td>\n",
       "    </tr>\n",
       "    <tr>\n",
       "      <th>68974</th>\n",
       "      <td>Cosmic Sin</td>\n",
       "      <td>2021</td>\n",
       "      <td>88</td>\n",
       "      <td>2.5</td>\n",
       "    </tr>\n",
       "    <tr>\n",
       "      <th>60298</th>\n",
       "      <td>Bobbleheads: The Movie</td>\n",
       "      <td>2020</td>\n",
       "      <td>82</td>\n",
       "      <td>2.4</td>\n",
       "    </tr>\n",
       "    <tr>\n",
       "      <th>74063</th>\n",
       "      <td>Hype House</td>\n",
       "      <td>2022</td>\n",
       "      <td>32</td>\n",
       "      <td>2.3</td>\n",
       "    </tr>\n",
       "    <tr>\n",
       "      <th>44043</th>\n",
       "      <td>A House of Blocks</td>\n",
       "      <td>2017</td>\n",
       "      <td>84</td>\n",
       "      <td>2.3</td>\n",
       "    </tr>\n",
       "    <tr>\n",
       "      <th>40980</th>\n",
       "      <td>Nothing to Lose</td>\n",
       "      <td>2018</td>\n",
       "      <td>130</td>\n",
       "      <td>2.3</td>\n",
       "    </tr>\n",
       "    <tr>\n",
       "      <th>16776</th>\n",
       "      <td>FRED 3: Camp Fred</td>\n",
       "      <td>2012</td>\n",
       "      <td>81</td>\n",
       "      <td>2.0</td>\n",
       "    </tr>\n",
       "    <tr>\n",
       "      <th>74444</th>\n",
       "      <td>Racket Boys</td>\n",
       "      <td>2021</td>\n",
       "      <td>70</td>\n",
       "      <td>1.8</td>\n",
       "    </tr>\n",
       "    <tr>\n",
       "      <th>69914</th>\n",
       "      <td>He's Expecting</td>\n",
       "      <td>2022</td>\n",
       "      <td>26</td>\n",
       "      <td>1.6</td>\n",
       "    </tr>\n",
       "  </tbody>\n",
       "</table>\n",
       "</div>"
      ],
      "text/plain": [
       "                             title  release_year  runtime  imdb_score\n",
       "65787  Luccas Neto in: Summer Camp          2019       87         2.8\n",
       "57614                 The Goop Lab          2020       33         2.5\n",
       "68974                   Cosmic Sin          2021       88         2.5\n",
       "60298       Bobbleheads: The Movie          2020       82         2.4\n",
       "74063                   Hype House          2022       32         2.3\n",
       "44043            A House of Blocks          2017       84         2.3\n",
       "40980              Nothing to Lose          2018      130         2.3\n",
       "16776            FRED 3: Camp Fred          2012       81         2.0\n",
       "74444                  Racket Boys          2021       70         1.8\n",
       "69914               He's Expecting          2022       26         1.6"
      ]
     },
     "execution_count": 21,
     "metadata": {},
     "output_type": "execute_result"
    }
   ],
   "source": [
    "df[['title','release_year','runtime','imdb_score']].drop_duplicates().sort_values(['imdb_score'],ascending = False).dropna().tail(10)"
   ]
  },
  {
   "cell_type": "markdown",
   "id": "da316772",
   "metadata": {
    "papermill": {
     "duration": 0.015853,
     "end_time": "2022-07-25T01:18:39.744195",
     "exception": false,
     "start_time": "2022-07-25T01:18:39.728342",
     "status": "completed"
    },
    "tags": []
   },
   "source": [
    "## Q6: Will the launch year affect the number of votes?\n",
    "answer: movies after 2010 gets more num of number of votes\n",
    "maybe after 2020 data are not for full year"
   ]
  },
  {
   "cell_type": "code",
   "execution_count": 22,
   "id": "6e8fe2f3",
   "metadata": {
    "execution": {
     "iopub.execute_input": "2022-07-25T01:18:39.777192Z",
     "iopub.status.busy": "2022-07-25T01:18:39.776451Z",
     "iopub.status.idle": "2022-07-25T01:18:40.058378Z",
     "shell.execute_reply": "2022-07-25T01:18:40.056835Z"
    },
    "papermill": {
     "duration": 0.301829,
     "end_time": "2022-07-25T01:18:40.061465",
     "exception": false,
     "start_time": "2022-07-25T01:18:39.759636",
     "status": "completed"
    },
    "tags": []
   },
   "outputs": [
    {
     "data": {
      "image/png": "[encoded data removed]",
      "text/plain": [
       "<Figure size 648x360 with 1 Axes>"
      ]
     },
     "metadata": {
      "needs_background": "light"
     },
     "output_type": "display_data"
    }
   ],
   "source": [
    "df[['title','release_year','runtime','imdb_score','imdb_votes']].drop_duplicates().groupby('release_year')[['imdb_votes']].sum().plot();\n",
    "plt.title('Votes by realease year');"
   ]
  },
  {
   "cell_type": "markdown",
   "id": "9a90157e",
   "metadata": {
    "papermill": {
     "duration": 0.017617,
     "end_time": "2022-07-25T01:18:40.097648",
     "exception": false,
     "start_time": "2022-07-25T01:18:40.080031",
     "status": "completed"
    },
    "tags": []
   },
   "source": [
    "## Inferences and Conclusion\n",
    "- we loaded data from kaggle (Netflex movies)\n",
    "- cleaned data and deleted season column as it has many null values\n",
    "- visualize data to understant it clearly\n",
    "- asked some questoins about data and clearly answered them\n",
    "\n",
    "we found that average movies runtime is 72.5 , Bryan Cranston did many good movies and did best movie (Breaking Bad) , in past years people are voting and caring about voting"
   ]
  },
  {
   "cell_type": "markdown",
   "id": "d135c813",
   "metadata": {
    "papermill": {
     "duration": 0.01706,
     "end_time": "2022-07-25T01:18:40.132203",
     "exception": false,
     "start_time": "2022-07-25T01:18:40.115143",
     "status": "completed"
    },
    "tags": []
   },
   "source": [
    "## References and Future Work\n",
    "\n",
    "Data loaded from kaggle\n",
    "https://www.kaggle.com/datasets/victorsoeiro/netflix-tv-shows-and-movies"
   ]
  },
  {
   "cell_type": "code",
   "execution_count": 23,
   "id": "ffa39296",
   "metadata": {
    "execution": {
     "iopub.execute_input": "2022-07-25T01:18:40.168745Z",
     "iopub.status.busy": "2022-07-25T01:18:40.167641Z",
     "iopub.status.idle": "2022-07-25T01:18:40.175854Z",
     "shell.execute_reply": "2022-07-25T01:18:40.174389Z"
    },
    "papermill": {
     "duration": 0.029635,
     "end_time": "2022-07-25T01:18:40.178719",
     "exception": false,
     "start_time": "2022-07-25T01:18:40.149084",
     "status": "completed"
    },
    "tags": []
   },
   "outputs": [],
   "source": [
    "import jovian\n"
   ]
  },
  {
   "cell_type": "code",
   "execution_count": 24,
   "id": "56d27da7",
   "metadata": {
    "execution": {
     "iopub.execute_input": "2022-07-25T01:18:40.215598Z",
     "iopub.status.busy": "2022-07-25T01:18:40.214869Z",
     "iopub.status.idle": "2022-07-25T01:18:41.227387Z",
     "shell.execute_reply": "2022-07-25T01:18:41.226145Z"
    },
    "papermill": {
     "duration": 1.034919,
     "end_time": "2022-07-25T01:18:41.231145",
     "exception": false,
     "start_time": "2022-07-25T01:18:40.196226",
     "status": "completed"
    },
    "tags": []
   },
   "outputs": [
    {
     "data": {
      "application/javascript": [
       "window.require && require([\"base/js/namespace\"],function(Jupyter){Jupyter.notebook.save_checkpoint()})"
      ],
      "text/plain": [
       "<IPython.core.display.Javascript object>"
      ]
     },
     "metadata": {},
     "output_type": "display_data"
    },
    {
     "data": {
      "application/javascript": [
       "if (window.IPython && IPython.notebook.kernel) IPython.notebook.kernel.execute('jovian.utils.jupyter.get_notebook_name_saved = lambda: \"' + IPython.notebook.notebook_name + '\"')"
      ],
      "text/plain": [
       "<IPython.core.display.Javascript object>"
      ]
     },
     "metadata": {},
     "output_type": "display_data"
    },
    {
     "name": "stderr",
     "output_type": "stream",
     "text": [
      "\u001b[31m[jovian] Error: Failed to read the Jupyter notebook. Please re-run this cell to try again. If the issue persists, provide the \"filename\" argument to \"jovian.commit\" e.g. \"jovian.commit(filename='my-notebook.ipynb')\"\u001b[0m\n"
     ]
    }
   ],
   "source": [
    "jovian.commit()\n"
   ]
  }
 ],
 "metadata": {
  "kernelspec": {
   "display_name": "Python 3",
   "language": "python",
   "name": "python3"
  },
  "language_info": {
   "codemirror_mode": {
    "name": "ipython",
    "version": 3
   },
   "file_extension": ".py",
   "mimetype": "text/x-python",
   "name": "python",
   "nbconvert_exporter": "python",
   "pygments_lexer": "ipython3",
   "version": "3.7.12"
  },
  "papermill": {
   "default_parameters": {},
   "duration": 58.011798,
   "end_time": "2022-07-25T01:18:42.374770",
   "environment_variables": {},
   "exception": null,
   "input_path": "__notebook__.ipynb",
   "output_path": "__notebook__.ipynb",
   "parameters": {},
   "start_time": "2022-07-25T01:17:44.362972",
   "version": "2.3.4"
  }
 },
 "nbformat": 4,
 "nbformat_minor": 5
}
